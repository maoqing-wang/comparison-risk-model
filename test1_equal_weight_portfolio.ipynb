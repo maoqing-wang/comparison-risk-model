{
 "cells": [
  {
   "cell_type": "code",
   "execution_count": 2,
   "id": "ccbcba90-b3de-44d7-b378-ea08ced2de38",
   "metadata": {},
   "outputs": [],
   "source": [
    "import pandas as pd\n",
    "import numpy as np\n",
    "import os\n",
    "from typing import Tuple"
   ]
  },
  {
   "cell_type": "code",
   "execution_count": 3,
   "id": "0bddeb07-4f26-495f-b648-64c00f7ba893",
   "metadata": {},
   "outputs": [],
   "source": [
    "# portfolio predicted volatility\n",
    "def portfolio_vol_pred(\n",
    "    omega_dir: str,\n",
    "    returns_df: pd.DataFrame,\n",
    "    w: np.ndarray,\n",
    "    horizon: int=1\n",
    ")-> pd.Series:\n",
    "    \"\"\"\n",
    "    Compute predicted portfolio volatility for each date using\n",
    "    cumulative horizon-day covariance matrices.\n",
    "\n",
    "    Returns:\n",
    "        pd.Series: Predicted portfolio volatilities indexed by date.\n",
    "    \"\"\"\n",
    "    omega_files = sorted(\n",
    "        [f for f in os.listdir(omega_dir) \n",
    "         if f.startswith('omega_') and f.endswith('.csv')]\n",
    "    )\n",
    "    dates = [pd.to_datetime(f.split('_')[1].split('.')[0], format='%Y%m%d') for f in omega_files]\n",
    "\n",
    "    portfolio_vol_pred = {}\n",
    "\n",
    "    for i in range(len(dates)):\n",
    "        if i+horizon > len(dates):\n",
    "            continue\n",
    "\n",
    "        omega_sum = None\n",
    "        for j in range(horizon):\n",
    "            omega_path = os.path.join(omega_dir, omega_files[i + j])\n",
    "            omega_df = pd.read_csv(omega_path, index_col=0)\n",
    "            omega_df = omega_df.reindex(index=returns_df.columns, columns=returns_df.columns)\n",
    "            omega_mat = omega_df.values\n",
    "\n",
    "            if omega_sum is None:\n",
    "                omega_sum = omega_mat\n",
    "            else:\n",
    "                omega_sum += omega_mat\n",
    "\n",
    "        vol = np.sqrt(w.T @ omega_sum @ w)\n",
    "        portfolio_vol_pred[dates[i]] = vol\n",
    "        \n",
    "    return pd.Series(portfolio_vol_pred).sort_index()"
   ]
  },
  {
   "cell_type": "code",
   "execution_count": 4,
   "id": "51f10a03-a53d-4127-a78e-e3549da906fa",
   "metadata": {},
   "outputs": [],
   "source": [
    "def portfolio_returns(\n",
    "    returns_df: pd.DataFrame,\n",
    "    w: np.ndarray\n",
    ") -> pd.Series:\n",
    "    portfolio_returns = returns_df.dot(w)\n",
    "    return portfolio_returns "
   ]
  },
  {
   "cell_type": "code",
   "execution_count": 5,
   "id": "b39e9d95-3ed9-4a49-9345-1cf221eaa143",
   "metadata": {},
   "outputs": [],
   "source": [
    "def compute_zscore(\n",
    "    portfolio_returns: pd.Series,\n",
    "    portfolio_vol_pred: pd.Series,\n",
    "    horizon: int=1\n",
    ") -> pd.Series:\n",
    "    \"\"\"\n",
    "    Compute z-score for a given horizon:\n",
    "    z_t = realized cumulative return over [t, t+horizon-1] / predicted volatility at t-1\n",
    "\n",
    "    Args:\n",
    "        portfolio_returns (pd.Series): daily portfolio returns indexed by date.\n",
    "        portfolio_vol_pred (pd.Series): predicted volatilities indexed by date.\n",
    "        horizon (int): holding period (days).\n",
    "\n",
    "    Returns:\n",
    "        pd.Series: z-score indexed by date corresponding to the start of the holding period.\n",
    "    \"\"\"\n",
    "    cum_returns = portfolio_returns.rolling(window=horizon).sum().shift(-(horizon-1))\n",
    "    \n",
    "    # Shift predicted volatility backward by horizon days (use forecast made at t for [t, t+horizon-1])\n",
    "    vol_shifted = portfolio_vol_pred.shift(horizon)\n",
    "\n",
    "    # Align dates\n",
    "    common_dates = cum_returns.index.intersection(vol_shifted.index)\n",
    "    returns_aligned = cum_returns.loc[common_dates]\n",
    "    vol_aligned = vol_shifted.loc[common_dates]\n",
    "\n",
    "    # Compute z-score\n",
    "    zscore = returns_aligned / vol_aligned\n",
    "\n",
    "    # Clean z-score\n",
    "    zscore = zscore.replace([np.inf, -np.inf], np.nan).dropna()\n",
    "\n",
    "    return zscore"
   ]
  },
  {
   "cell_type": "code",
   "execution_count": 6,
   "id": "476a1a95-462c-4ebc-a690-2171a5a3dc10",
   "metadata": {},
   "outputs": [],
   "source": [
    "def compute_bias_stat(\n",
    "    zscore: pd.Series\n",
    ") -> float:\n",
    "    return zscore.std()"
   ]
  },
  {
   "cell_type": "code",
   "execution_count": 7,
   "id": "eff3f368-e7be-4177-9e65-8fbdaf9a228d",
   "metadata": {},
   "outputs": [],
   "source": [
    "def compute_q_stat(\n",
    "    zscore: pd.Series\n",
    ") -> float:\n",
    "    Q_t = zscore**2 - np.log(zscore**2)\n",
    "    Q_stat = Q_t.mean()\n",
    "    return Q_stat"
   ]
  },
  {
   "cell_type": "code",
   "execution_count": 8,
   "id": "684b2923-4d51-4d16-ae7a-00bcafca8967",
   "metadata": {},
   "outputs": [],
   "source": [
    "def compute_stat_pipeline(\n",
    "    omega_dir: str,\n",
    "    returns_df: pd.DataFrame,\n",
    "    w: np.ndarray,\n",
    "    horizon: int\n",
    ") -> Tuple[float, float]:\n",
    "    \n",
    "    vol_pred = portfolio_vol_pred(omega_dir, returns_df, w, horizon)\n",
    "    portfolio_return = portfolio_returns(returns_df, w)\n",
    "    \n",
    "    zscore = compute_zscore(portfolio_return, vol_pred, horizon)\n",
    "    \n",
    "    bias_stat = compute_bias_stat(zscore)\n",
    "    q_stat = compute_q_stat(zscore)\n",
    "    return bias_stat, q_stat"
   ]
  },
  {
   "cell_type": "code",
   "execution_count": 9,
   "id": "54ddc165-ce6c-4f6c-a03f-b21cc58cc5dc",
   "metadata": {},
   "outputs": [],
   "source": [
    "# Set parameters\n",
    "omega_dirs = {\n",
    "    'modelA': \"synthetic_data/models/modelA/omega\",\n",
    "    'modelB': \"synthetic_data/models/modelB/omega\"\n",
    "}\n",
    "returns_df = pd.read_csv('synthetic_data/data/returns.csv', index_col=0, parse_dates=True)\n",
    "returns_df.sort_index(inplace=True)\n",
    "horizons = [1, 5, 21, 63]\n",
    "# euqally weighted portfolio\n",
    "nAssets = returns_df.shape[1]\n",
    "w = np.ones(nAssets) / nAssets"
   ]
  },
  {
   "cell_type": "code",
   "execution_count": 10,
   "id": "076640ca-663f-4d14-9962-efd9fbe0dd0a",
   "metadata": {},
   "outputs": [
    {
     "name": "stdout",
     "output_type": "stream",
     "text": [
      "Model: modelA, Horizon: 1 days, Bias Stat: 1.0669, Q Stat: 2.3873\n",
      "Model: modelA, Horizon: 5 days, Bias Stat: 1.0565, Q Stat: 2.3813\n",
      "Model: modelA, Horizon: 21 days, Bias Stat: 1.1099, Q Stat: 2.2647\n",
      "Model: modelA, Horizon: 63 days, Bias Stat: 1.0883, Q Stat: 1.9620\n",
      "Model: modelB, Horizon: 1 days, Bias Stat: 1.0403, Q Stat: 2.3818\n",
      "Model: modelB, Horizon: 5 days, Bias Stat: 1.0306, Q Stat: 2.3778\n",
      "Model: modelB, Horizon: 21 days, Bias Stat: 1.0835, Q Stat: 2.2568\n",
      "Model: modelB, Horizon: 63 days, Bias Stat: 1.0635, Q Stat: 1.9586\n"
     ]
    }
   ],
   "source": [
    "results = []\n",
    "\n",
    "for model_name, omega_dir in omega_dirs.items():\n",
    "    for horizon in horizons:\n",
    "        bias_stat, q_stat = compute_stat_pipeline(\n",
    "            omega_dir,\n",
    "            returns_df,\n",
    "            w,\n",
    "            horizon=horizon\n",
    "        )\n",
    "        print(f\"Model: {model_name}, Horizon: {horizon} days, Bias Stat: {bias_stat:.4f}, Q Stat: {q_stat:.4f}\")\n",
    "        results.append({\n",
    "            'Model': model_name,\n",
    "            'Horizon': horizon,\n",
    "            'Bias Statistic': bias_stat,\n",
    "            'Q Statistic': q_stat\n",
    "        })"
   ]
  },
  {
   "cell_type": "code",
   "execution_count": 11,
   "id": "f46f71f1-2114-47d3-9034-0bbf4692f36a",
   "metadata": {},
   "outputs": [
    {
     "name": "stdout",
     "output_type": "stream",
     "text": [
      "Results saved to volatility_forecast_bias_q_stats.csv\n"
     ]
    }
   ],
   "source": [
    "results_df = pd.DataFrame(results)\n",
    "results_df.to_csv('volatility_forecast_bias_q_stats.csv', index=False)\n",
    "print(\"Results saved to volatility_forecast_bias_q_stats.csv\")"
   ]
  }
 ],
 "metadata": {
  "kernelspec": {
   "display_name": "Python 3 (ipykernel)",
   "language": "python",
   "name": "python3"
  },
  "language_info": {
   "codemirror_mode": {
    "name": "ipython",
    "version": 3
   },
   "file_extension": ".py",
   "mimetype": "text/x-python",
   "name": "python",
   "nbconvert_exporter": "python",
   "pygments_lexer": "ipython3",
   "version": "3.12.4"
  }
 },
 "nbformat": 4,
 "nbformat_minor": 5
}
